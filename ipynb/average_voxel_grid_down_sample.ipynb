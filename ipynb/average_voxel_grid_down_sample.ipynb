{
 "cells": [
  {
   "cell_type": "code",
   "execution_count": null,
   "metadata": {},
   "outputs": [],
   "source": [
    "#Google Driveをマウント\n",
    "from google.colab import drive\n",
    "drive.mount('/content/drive')"
   ]
  },
  {
   "cell_type": "code",
   "execution_count": null,
   "metadata": {},
   "outputs": [],
   "source": [
    "!pip install open3d"
   ]
  },
  {
   "cell_type": "code",
   "execution_count": null,
   "metadata": {},
   "outputs": [],
   "source": [
    "import open3d as o3d"
   ]
  },
  {
   "cell_type": "code",
   "execution_count": null,
   "metadata": {},
   "outputs": [],
   "source": [
    "#点群の読み込み\n",
    "ptCloud = o3d.io.read_point_cloud(\"/content/drive/MyDrive/cow_data.ply\")\n",
    "\n",
    "#ダウンサンプリング\n",
    "vds = ptCloud.voxel_down_sample(voxel_size=0.05)\n",
    "\n",
    "#ダウンサンプリングしたあとの点群を描画\n",
    "o3d.visualization.draw_plotly([vds])"
   ]
  }
 ],
 "metadata": {
  "language_info": {
   "name": "python"
  }
 },
 "nbformat": 4,
 "nbformat_minor": 2
}
