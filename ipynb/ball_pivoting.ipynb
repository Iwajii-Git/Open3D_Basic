{
 "cells": [
  {
   "cell_type": "code",
   "execution_count": null,
   "metadata": {},
   "outputs": [],
   "source": [
    "#Google Driveをマウント\n",
    "from google.colab import drive\n",
    "drive.mount('/content/drive')"
   ]
  },
  {
   "cell_type": "code",
   "execution_count": null,
   "metadata": {},
   "outputs": [],
   "source": [
    "!pip install open3d"
   ]
  },
  {
   "cell_type": "code",
   "execution_count": null,
   "metadata": {},
   "outputs": [],
   "source": [
    "import open3d as o3d\n",
    "import numpy as np"
   ]
  },
  {
   "cell_type": "code",
   "execution_count": null,
   "metadata": {},
   "outputs": [],
   "source": [
    "#点群の読み込み\n",
    "pcd = o3d.io.read_point_cloud(\"/content/drive/MyDrive/cow_data.ply\")\n",
    "pcd = pcd.voxel_down_sample(voxel_size=0.01)"
   ]
  },
  {
   "cell_type": "code",
   "execution_count": null,
   "metadata": {},
   "outputs": [],
   "source": [
    "#点群を描画\n",
    "o3d.visualization.draw_plotly([pcd])"
   ]
  },
  {
   "cell_type": "code",
   "execution_count": null,
   "metadata": {},
   "outputs": [],
   "source": [
    "#法線推定\n",
    "pcd.estimate_normals(search_param=o3d.geometry.KDTreeSearchParamHybrid(radius=0.1, max_nn=30))\n",
    "\n",
    "#面に対する法線方向の一貫性を保つ\n",
    "pcd.orient_normals_consistent_tangent_plane(100)\n",
    "       \n",
    "#各点の最近傍点までの距離を算出している\n",
    "distances = pcd.compute_nearest_neighbor_distance()\n",
    "\n",
    "#最近傍点までの距離の平均を出している\n",
    "avg_dist = np.mean(distances)\n",
    "\n",
    "#最近傍点までの平均の値を二倍する\n",
    "radius = 2*avg_dist   \n",
    "\n",
    "#半径の引数radii作成\n",
    "radii = [radius, radius * 2]\n",
    "\n",
    "#メッシュの作成\n",
    "recMeshBPA = o3d.geometry.TriangleMesh.create_from_point_cloud_ball_pivoting(pcd, o3d.utility.DoubleVector(radii))\n",
    "       \n",
    "#作成したメッシュの表示\n",
    "o3d.visualization.draw_plotly([recMeshBPA])"
   ]
  }
 ],
 "metadata": {
  "language_info": {
   "name": "python"
  }
 },
 "nbformat": 4,
 "nbformat_minor": 2
}
