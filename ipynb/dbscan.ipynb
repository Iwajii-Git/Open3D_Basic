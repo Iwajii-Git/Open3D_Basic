{
 "cells": [
  {
   "cell_type": "code",
   "execution_count": null,
   "metadata": {},
   "outputs": [],
   "source": [
    "#Google Driveをマウント\n",
    "from google.colab import drive\n",
    "drive.mount('/content/drive')"
   ]
  },
  {
   "cell_type": "code",
   "execution_count": null,
   "metadata": {},
   "outputs": [],
   "source": [
    "!pip install open3d"
   ]
  },
  {
   "cell_type": "code",
   "execution_count": null,
   "metadata": {},
   "outputs": [],
   "source": [
    "import open3d as o3d\n",
    "import numpy as np\n",
    "import matplotlib.pyplot as plt"
   ]
  },
  {
   "cell_type": "code",
   "execution_count": null,
   "metadata": {},
   "outputs": [],
   "source": [
    "#点群の読み込み\n",
    "pcd = o3d.io.read_point_cloud(\"/content/drive/MyDrive/cow_data.ply\")\n",
    "pcd = pcd.voxel_down_sample(voxel_size=0.01)"
   ]
  },
  {
   "cell_type": "code",
   "execution_count": null,
   "metadata": {},
   "outputs": [],
   "source": [
    "#点群を描画\n",
    "o3d.visualization.draw_plotly([pcd])"
   ]
  },
  {
   "cell_type": "code",
   "execution_count": null,
   "metadata": {},
   "outputs": [],
   "source": [
    "def Dbscan():\n",
    "    #DBSCAN\n",
    "    db = pcd.cluster_dbscan(eps=0.1, min_points=270)\n",
    "    #DBSCANで得たラベル情報をnumpyへ変換\n",
    "    labels = np.array(db)\n",
    "    #labelsの中での最大値を計算\n",
    "    max_label = labels.max()\n",
    "\n",
    "    #クラスタリングされた物体の個数の表示(最大値+1==クラスタリングされた数)\n",
    "    print(f\"point cloud has {max_label + 1} clusters\")\n",
    "\n",
    "    #物体ごとに色分け\n",
    "    seg = plt.get_cmap(\"tab20\")(labels / max(max_label,1))\n",
    "    #ラベルが0より小さい値，すなわちノイズ値は0を代入して透明化\n",
    "    seg[labels < 0] = 0\n",
    "\n",
    "    #セグメンテーションの可視化\n",
    "    pcd_seg =o3d.geometry.PointCloud()\n",
    "    pcd_seg.points = o3d.utility.Vector3dVector(pcd.points)\n",
    "    pcd_seg.colors = o3d.utility.Vector3dVector(seg[:, :3])\n",
    "    o3d.visualization.draw_plotly([pcd_seg])\n",
    "\n",
    "    #labelsを戻り値に設定\n",
    "    return labels"
   ]
  },
  {
   "cell_type": "code",
   "execution_count": null,
   "metadata": {},
   "outputs": [],
   "source": [
    "def Devide(labels, points, colors, d):#セグメンテーションを行う\n",
    "    p = 0\n",
    "    #選択されたラベルの物体の点群数がいくつなのか調べている\n",
    "    count = np.count_nonzero(labels == d)\n",
    "    print(f\"{d+1}番目の点群数:{count}\")\n",
    "    \n",
    "    #点群を代入する配列を宣言しておく\n",
    "    pcd_pt = np.zeros((count, 3), dtype=np.float32)\n",
    "    pcd_cl = np.zeros((count, 3), dtype=np.float32)\n",
    "\n",
    "    for k in range(len(labels)):#ここでラベルごとに点群を分けている\n",
    "        if (labels[k] == d):\n",
    "            pcd_pt[p] = points[k]\n",
    "            pcd_cl[p] = colors[k]\n",
    "            p = p + 1\n",
    "\n",
    "    #点群を統合している\n",
    "    pcd_dv =o3d.geometry.PointCloud()\n",
    "    pcd_dv.points = o3d.utility.Vector3dVector(pcd_pt)\n",
    "    pcd_dv.colors = o3d.utility.Vector3dVector(pcd_cl)\n",
    "\n",
    "    #分類された点群を戻り値に設定\n",
    "    return pcd_dv"
   ]
  },
  {
   "cell_type": "code",
   "execution_count": null,
   "metadata": {},
   "outputs": [],
   "source": [
    "################## main ########################\n",
    "#まずDBSCANしてクラスタリングされたラベルを代入\n",
    "labels = Dbscan()\n",
    "#for文を回してラベルごとに点群を抽出\n",
    "for d in range(0,labels.max()+1):\n",
    "    #DBSCANして得たラベルの値を基に点群を分類\n",
    "    pcd_dv = Devide(labels,pcd.points,pcd.colors,d)\n",
    "    #分類した点群の表示\n",
    "    o3d.visualization.draw_plotly([pcd_dv])\n",
    "    #分類した点群の保存\n",
    "    #o3d.io.write_point_cloud(f\"DBSCAN{d+1}.ply\", pcd_dv)"
   ]
  }
 ],
 "metadata": {
  "language_info": {
   "name": "python"
  }
 },
 "nbformat": 4,
 "nbformat_minor": 2
}
