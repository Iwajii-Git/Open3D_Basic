{
 "cells": [
  {
   "cell_type": "code",
   "execution_count": null,
   "metadata": {},
   "outputs": [],
   "source": [
    "#Google Driveをマウント\n",
    "from google.colab import drive\n",
    "drive.mount('/content/drive')"
   ]
  },
  {
   "cell_type": "code",
   "execution_count": null,
   "metadata": {},
   "outputs": [],
   "source": [
    "!pip install open3d"
   ]
  },
  {
   "cell_type": "code",
   "execution_count": null,
   "metadata": {},
   "outputs": [],
   "source": [
    "import open3d as o3d\n",
    "import numpy as np"
   ]
  },
  {
   "cell_type": "code",
   "execution_count": null,
   "metadata": {},
   "outputs": [],
   "source": [
    "#点群の作成\n",
    "pt = np.ones((100,3),dtype=np.float64)\n",
    "cl = np.ones((100,3),dtype=np.float64)\n",
    "#pt，clのデータ型を見る\n",
    "print(f\"ptのタイプは{type(pt)}，点の数は{len(pt)}\")\n",
    "print(f\"clのタイプは{type(cl)}，点の数は{len(cl)}\")"
   ]
  },
  {
   "cell_type": "code",
   "execution_count": null,
   "metadata": {},
   "outputs": [],
   "source": [
    "#numpy→open3d変換\n",
    "pcd = o3d.geometry.PointCloud()\n",
    "pcd.points = o3d.utility.Vector3dVector(pt)\n",
    "pcd.colors = o3d.utility.Vector3dVector(cl)\n",
    "\n",
    "#pcdのデータ型を見る\n",
    "print(f\"pcdのタイプは{type(pcd)}，点の数は{pcd}\")"
   ]
  }
 ],
 "metadata": {
  "language_info": {
   "name": "python"
  }
 },
 "nbformat": 4,
 "nbformat_minor": 2
}
