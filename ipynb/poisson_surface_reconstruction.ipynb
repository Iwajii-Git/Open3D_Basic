{
 "cells": [
  {
   "cell_type": "code",
   "execution_count": null,
   "metadata": {},
   "outputs": [],
   "source": [
    "#Google Driveをマウント\n",
    "from google.colab import drive\n",
    "drive.mount('/content/drive')"
   ]
  },
  {
   "cell_type": "code",
   "execution_count": null,
   "metadata": {},
   "outputs": [],
   "source": [
    "!pip install open3d"
   ]
  },
  {
   "cell_type": "code",
   "execution_count": null,
   "metadata": {},
   "outputs": [],
   "source": [
    "import open3d as o3d\n",
    "import numpy as np\n",
    "import matplotlib.pyplot as plt"
   ]
  },
  {
   "cell_type": "code",
   "execution_count": null,
   "metadata": {},
   "outputs": [],
   "source": [
    "#点群の読み込み\n",
    "pcd = o3d.io.read_point_cloud(\"/content/drive/MyDrive/cow_data.ply\")\n",
    "pcd = pcd.voxel_down_sample(voxel_size=0.01)"
   ]
  },
  {
   "cell_type": "code",
   "execution_count": null,
   "metadata": {},
   "outputs": [],
   "source": [
    "#点群を描画\n",
    "o3d.visualization.draw_plotly([pcd])"
   ]
  },
  {
   "cell_type": "code",
   "execution_count": null,
   "metadata": {},
   "outputs": [],
   "source": [
    "############################メッシュの計算##############################\n",
    "#法線推定\n",
    "pcd.estimate_normals(search_param=o3d.geometry.KDTreeSearchParamHybrid(radius=0.1, max_nn=30))\n",
    "\n",
    "#面に対する法線方向の一貫性を保つ\n",
    "pcd.orient_normals_consistent_tangent_plane(100)\n",
    "\n",
    "#メッシュの計算\n",
    "mesh, densities = o3d.geometry.TriangleMesh.create_from_point_cloud_poisson(pcd, depth=9)\n",
    "\n",
    "#点群の表示\n",
    "o3d.visualization.draw_plotly([mesh])"
   ]
  },
  {
   "cell_type": "code",
   "execution_count": null,
   "metadata": {},
   "outputs": [],
   "source": [
    "################################点群密度の可視化##########################\n",
    "#densitiesをnumpy配列に変換\n",
    "densities = np.asarray(densities)\n",
    "\n",
    "#matplotlibで密度の値によって色を付けている\n",
    "density_colors = plt.get_cmap('plasma')((densities - densities.min()) / (densities.max() - densities.min()))\n",
    "\n",
    "#必要な値だけを取り出す\n",
    "density_colors = density_colors[:, :3]\n",
    "\n",
    "#インスタンス化\n",
    "density_mesh = o3d.geometry.TriangleMesh()\n",
    "\n",
    "#色情報以外のメッシュの値を代入\n",
    "density_mesh.vertices = mesh.vertices\n",
    "density_mesh.triangles = mesh.triangles\n",
    "density_mesh.triangle_normals = mesh.triangle_normals\n",
    "\n",
    "#色情報のみ33行目で作成したメッシュを用いている\n",
    "density_mesh.vertex_colors = o3d.utility.Vector3dVector(density_colors)\n",
    "\n",
    "#メッシュの可視化\n",
    "o3d.visualization.draw_plotly([density_mesh])"
   ]
  },
  {
   "cell_type": "code",
   "execution_count": null,
   "metadata": {},
   "outputs": [],
   "source": [
    "################################点群密度のの低い箇所の削除##########################\n",
    "#削除する部分を選定している\n",
    "vertices_to_remove = densities < np.quantile(densities, 0.01)\n",
    "\n",
    "#密度の低い箇所を削除している\n",
    "mesh.remove_vertices_by_mask(vertices_to_remove)\n",
    "\n",
    "#メッシュの可視化\n",
    "o3d.visualization.draw_plotly([mesh])"
   ]
  }
 ],
 "metadata": {
  "language_info": {
   "name": "python"
  }
 },
 "nbformat": 4,
 "nbformat_minor": 2
}
