{
 "cells": [
  {
   "cell_type": "code",
   "execution_count": null,
   "metadata": {},
   "outputs": [],
   "source": [
    "#Google Driveをマウント\n",
    "from google.colab import drive\n",
    "drive.mount('/content/drive')"
   ]
  },
  {
   "cell_type": "code",
   "execution_count": null,
   "metadata": {},
   "outputs": [],
   "source": [
    "!pip install open3d"
   ]
  },
  {
   "cell_type": "code",
   "execution_count": null,
   "metadata": {},
   "outputs": [],
   "source": [
    "import open3d as o3d"
   ]
  },
  {
   "cell_type": "code",
   "execution_count": null,
   "metadata": {},
   "outputs": [],
   "source": [
    "#点群の読み込み\n",
    "pcd = o3d.io.read_point_cloud(\"/content/drive/MyDrive/cow_data.ply\")\n",
    "pcd = pcd.voxel_down_sample(voxel_size=0.01)"
   ]
  },
  {
   "cell_type": "code",
   "execution_count": null,
   "metadata": {},
   "outputs": [],
   "source": [
    "#点群を描画\n",
    "o3d.visualization.draw_plotly([pcd])"
   ]
  },
  {
   "cell_type": "code",
   "execution_count": null,
   "metadata": {},
   "outputs": [],
   "source": [
    "#平面推定\n",
    "plane_model, inliers = pcd.segment_plane(distance_threshold=0.02, ransac_n=4, num_iterations=10000)\n",
    "\n",
    "#平面の式の係数\n",
    "[a, b, c, d] = plane_model\n",
    "#推定した平面の式の表示\n",
    "print(f\"Plane equation: {a:.2f}x + {b:.2f}y + {c:.2f}z + {d:.2f} = 0\")\n",
    "\n",
    "#平面上の点と認識された点を選択\n",
    "plane_cloud = pcd.select_by_index(inliers)\n",
    "#平面上の点を赤色に着色\n",
    "plane_cloud.paint_uniform_color([1.0, 0, 0])\n",
    "\n",
    "#平面上の点と認識されなかった点を選択\n",
    "outlier_cloud = pcd.select_by_index(inliers, invert=True)\n",
    "\n",
    "#点群の表示\n",
    "o3d.visualization.draw_plotly([plane_cloud, outlier_cloud])"
   ]
  }
 ],
 "metadata": {
  "language_info": {
   "name": "python"
  }
 },
 "nbformat": 4,
 "nbformat_minor": 2
}
