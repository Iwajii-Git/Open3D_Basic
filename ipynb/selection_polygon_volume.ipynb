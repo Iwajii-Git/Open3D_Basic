{
 "cells": [
  {
   "cell_type": "code",
   "execution_count": null,
   "metadata": {},
   "outputs": [],
   "source": [
    "#Google Driveをマウント\n",
    "from google.colab import drive\n",
    "drive.mount('/content/drive')"
   ]
  },
  {
   "cell_type": "code",
   "execution_count": null,
   "metadata": {},
   "outputs": [],
   "source": [
    "!pip install open3d"
   ]
  },
  {
   "cell_type": "code",
   "execution_count": null,
   "metadata": {},
   "outputs": [],
   "source": [
    "import open3d as o3d\n",
    "import numpy as np"
   ]
  },
  {
   "cell_type": "code",
   "execution_count": null,
   "metadata": {},
   "outputs": [],
   "source": [
    "#点群の読み込み\n",
    "pcd = o3d.io.read_point_cloud(\"/content/drive/MyDrive/cow_data.ply\")\n",
    "pcd = pcd.voxel_down_sample(voxel_size=0.01)"
   ]
  },
  {
   "cell_type": "code",
   "execution_count": null,
   "metadata": {},
   "outputs": [],
   "source": [
    "#点群を描画\n",
    "o3d.visualization.draw_plotly([pcd])"
   ]
  },
  {
   "cell_type": "code",
   "execution_count": null,
   "metadata": {},
   "outputs": [],
   "source": [
    "#点群の選択範囲(平面)を決めている．今回はxz平面\n",
    "corners = np.array([\n",
    "    [0.7, 0, 0.1],\n",
    "    [-0.7, 0, -1.5],\n",
    "    [-0.5, 0, 0.1],\n",
    "    [0.5, 0, -1.5],\n",
    "], dtype=np.float64)\n",
    "\n",
    "#インスタンス化\n",
    "vol = o3d.visualization.SelectionPolygonVolume()\n",
    "#今回はY軸方向に伸ばす\n",
    "vol.orthogonal_axis = \"Y\"\n",
    "#上限\n",
    "vol.axis_max = 50\n",
    "#下限\n",
    "vol.axis_min = -10\n",
    "\n",
    "#インスタンス化したvolの中にどの平面を伸ばすかを示すbounding_polygon配列の中に代入している\n",
    "vol.bounding_polygon = o3d.utility.Vector3dVector(corners)\n",
    "\n",
    "#点群の切り取り\n",
    "cropped_pcd = vol.crop_point_cloud(pcd)\n",
    "\n",
    "#切り取った点群の表示\n",
    "o3d.visualization.draw_plotly([cropped_pcd])"
   ]
  }
 ],
 "metadata": {
  "language_info": {
   "name": "python"
  }
 },
 "nbformat": 4,
 "nbformat_minor": 2
}
