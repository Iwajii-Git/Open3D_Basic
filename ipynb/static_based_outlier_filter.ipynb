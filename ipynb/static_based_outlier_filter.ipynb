{
 "cells": [
  {
   "cell_type": "code",
   "execution_count": null,
   "metadata": {},
   "outputs": [],
   "source": [
    "#Google Driveをマウント\n",
    "from google.colab import drive\n",
    "drive.mount('/content/drive')"
   ]
  },
  {
   "cell_type": "code",
   "execution_count": null,
   "metadata": {},
   "outputs": [],
   "source": [
    "!pip install open3d"
   ]
  },
  {
   "cell_type": "code",
   "execution_count": null,
   "metadata": {},
   "outputs": [],
   "source": [
    "import open3d as o3d"
   ]
  },
  {
   "cell_type": "code",
   "execution_count": null,
   "metadata": {},
   "outputs": [],
   "source": [
    "#点群の読み込み\n",
    "pcd = o3d.io.read_point_cloud(\"/content/drive/MyDrive/cow_data.ply\")\n",
    "pcd = pcd.voxel_down_sample(voxel_size=0.01)"
   ]
  },
  {
   "cell_type": "code",
   "execution_count": null,
   "metadata": {},
   "outputs": [],
   "source": [
    "#点群を描画\n",
    "o3d.visualization.draw_plotly([pcd])"
   ]
  },
  {
   "cell_type": "code",
   "execution_count": null,
   "metadata": {},
   "outputs": [],
   "source": [
    "#この関数は推定したノイズに色を付けている\n",
    "def display_inlier_outlier(cloud, ind):\n",
    "    #ノイズと判断されなかった点群の番号を変数に代入している\n",
    "    inlier_cloud = cloud.select_by_index(ind)\n",
    "    #ノイズと判断された点群の番号を変数に代入している\n",
    "    outlier_cloud = cloud.select_by_index(ind, invert=True)\n",
    "    #ノイズと判断された点群に赤色をつけている\n",
    "    outlier_cloud.paint_uniform_color([1, 0, 0])\n",
    "    #ノイズと判断されなかった点群に灰色をつけている\n",
    "    inlier_cloud.paint_uniform_color([0.8, 0.8, 0.8])\n",
    "    #点群の描画\n",
    "    o3d.visualization.draw_plotly([inlier_cloud, outlier_cloud])"
   ]
  },
  {
   "cell_type": "code",
   "execution_count": null,
   "metadata": {},
   "outputs": [],
   "source": [
    "#点群のノイズを判断している．clはノイズを取り除いた点群データ，indはそのノイズと判断されなかった点群の番号を代入されている．\n",
    "cl, ind = pcd.remove_statistical_outlier(nb_neighbors=20, std_ratio=2.0)\n",
    "#関数呼び出し\n",
    "display_inlier_outlier(pcd, ind)"
   ]
  }
 ],
 "metadata": {
  "language_info": {
   "name": "python"
  }
 },
 "nbformat": 4,
 "nbformat_minor": 2
}
