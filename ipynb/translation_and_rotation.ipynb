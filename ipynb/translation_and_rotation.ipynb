{
 "cells": [
  {
   "cell_type": "code",
   "execution_count": null,
   "metadata": {},
   "outputs": [],
   "source": [
    "#Google Driveをマウント\n",
    "from google.colab import drive\n",
    "drive.mount('/content/drive')"
   ]
  },
  {
   "cell_type": "code",
   "execution_count": null,
   "metadata": {},
   "outputs": [],
   "source": [
    "!pip install open3d"
   ]
  },
  {
   "cell_type": "code",
   "execution_count": null,
   "metadata": {},
   "outputs": [],
   "source": [
    "import open3d as o3d\n",
    "import copy\n",
    "import numpy as np"
   ]
  },
  {
   "cell_type": "code",
   "execution_count": null,
   "metadata": {},
   "outputs": [],
   "source": [
    "#点群の読み込み\n",
    "pcd = o3d.io.read_point_cloud(\"/content/drive/MyDrive/cow_data.ply\")\n",
    "pcd = pcd.voxel_down_sample(voxel_size=0.01)\n",
    "#xyz軸の作成(赤:X軸，緑:Y軸，青:Z軸)\n",
    "mesh = o3d.geometry.TriangleMesh.create_coordinate_frame()"
   ]
  },
  {
   "cell_type": "code",
   "execution_count": null,
   "metadata": {},
   "outputs": [],
   "source": [
    "#点群を描画\n",
    "o3d.visualization.draw_plotly([pcd,mesh])"
   ]
  },
  {
   "cell_type": "code",
   "execution_count": null,
   "metadata": {},
   "outputs": [],
   "source": [
    "#deep_copyしている\n",
    "pcd_t = copy.deepcopy(pcd)\n",
    "pcd_r = copy.deepcopy(pcd)"
   ]
  },
  {
   "cell_type": "code",
   "execution_count": null,
   "metadata": {},
   "outputs": [],
   "source": [
    "#####################平行移動#########################\n",
    "#座標(1,1,1)に平行移動\n",
    "pcd_t.translate([1,1,1])\n",
    "\n",
    "#点群の表示\n",
    "o3d.visualization.draw_plotly([pcd,pcd_t,mesh])"
   ]
  },
  {
   "cell_type": "code",
   "execution_count": null,
   "metadata": {},
   "outputs": [],
   "source": [
    "####################回転##############################\n",
    "#どれだけ回転させるか(弧度法)\n",
    "R = mesh.get_rotation_matrix_from_xyz((np.pi / 2, 0, 0))\n",
    "#点群の回転\n",
    "pcd_r.rotate(R, center=(0,0,0))\n",
    "\n",
    "#点群の表示\n",
    "o3d.visualization.draw_plotly([pcd,pcd_r,mesh])"
   ]
  }
 ],
 "metadata": {
  "language_info": {
   "name": "python"
  }
 },
 "nbformat": 4,
 "nbformat_minor": 2
}
